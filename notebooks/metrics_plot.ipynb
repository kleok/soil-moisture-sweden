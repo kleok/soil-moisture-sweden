{
 "cells": [
  {
   "cell_type": "code",
   "execution_count": 281,
   "metadata": {},
   "outputs": [],
   "source": [
    "# from numpy import cov\n",
    "import os\n",
    "import pandas\n",
    "import geopandas\n",
    "from shapely.geometry import Point\n",
    "import sys\n",
    "# from pytesmo.time_series.anomaly import calc_anomaly\n",
    "# from pytesmo.time_series.anomaly import calc_anomaly\n",
    "sys.path.append('../python')\n",
    "sys.path.append('../../icos_data')\n",
    "sys.path.append('../../ismn_data\\HOBE_Data_2015-2018')\n",
    "import sm_config as config\n",
    "import sm_tools as tools\n",
    "import sm_triplecollocation"
   ]
  },
  {
   "cell_type": "code",
   "execution_count": 282,
   "metadata": {},
   "outputs": [],
   "source": [
    "def get_filenames(path_to_dir, suffix=\".csv\"):\n",
    "    filenames = os.listdir(path_to_dir)\n",
    "    return [ filename for filename in filenames if filename.endswith(suffix) ]"
   ]
  },
  {
   "cell_type": "code",
   "execution_count": 283,
   "metadata": {},
   "outputs": [],
   "source": [
    "# Index(['ref_dataset', 'eval_dataset', 'timefilter', 'anomaly', 'loc', 'lon',\n",
    "#        'lat', 'veg_class', 'pearson_r', 'pearson_r_p-value', 'bias', 'rmsd',\n",
    "#        'ubrmsd', 'n', 'pearson_sig'],\n",
    "def get_plot(dataframe, metric_col, plot_name, sig=None, anomaly=True, timefilter=\"all\", veg_class_filter=None, lon_field=\"lon\", lat_field=\"lat\"):\n",
    "    plot = \"\"\n",
    "    return plot\n",
    "    "
   ]
  },
  {
   "cell_type": "code",
   "execution_count": 284,
   "metadata": {},
   "outputs": [],
   "source": [
    "map_output_dir = r\"../analysis_output/grid_evaluation_maps\"\n",
    "if not os.path.exists(map_output_dir):\n",
    "    os.mkdir(map_output_dir)"
   ]
  },
  {
   "cell_type": "code",
   "execution_count": 285,
   "metadata": {},
   "outputs": [],
   "source": [
    "# import pandas as pd\n",
    "# import geopandas\n",
    "# from shapely.geometry import Point\n",
    "# import matplotlib.pyplot as plt\n",
    "\n",
    "# df = pd.read_csv('name.csv')\n",
    "\n",
    "# geometry = [Point(xy) for xy in zip(df.iloc[:, 0], df.iloc[:, 1])]\n",
    "\n",
    "# gdf = geopandas.GeoDataFrame(df, geometry=geometry)\n",
    "\n",
    "# gdf.plot(column=' Ref')\n",
    "\n",
    "# plt.savefig('raster.tiff')"
   ]
  },
  {
   "cell_type": "code",
   "execution_count": 286,
   "metadata": {},
   "outputs": [
    {
     "name": "stdout",
     "output_type": "stream",
     "text": [
      "../analysis_output/ERA5 0-1 grid evaluation 20210407124502\n"
     ]
    },
    {
     "data": {
      "text/plain": [
       "['ASCAT 12.5 TS ERA5 0-1 absolute',\n",
       " 'ASCAT 12.5 TS ERA5 0-1 anomaly',\n",
       " 'ASCAT 12.5 TS metrics.csv',\n",
       " 'CCI Active ERA5 0-1 absolute',\n",
       " 'CCI Active ERA5 0-1 anomaly',\n",
       " 'CCI Active metrics.csv',\n",
       " 'CCI Combined ERA5 0-1 absolute',\n",
       " 'CCI Combined ERA5 0-1 anomaly',\n",
       " 'CCI Combined metrics.csv',\n",
       " 'CCI Passive ERA5 0-1 absolute',\n",
       " 'CCI Passive ERA5 0-1 anomaly',\n",
       " 'CCI Passive metrics.csv',\n",
       " 'GLDAS ERA5 0-1 absolute',\n",
       " 'GLDAS ERA5 0-1 anomaly',\n",
       " 'GLDAS metrics.csv',\n",
       " 'Sentinel-1 ERA5 0-1 absolute',\n",
       " 'Sentinel-1 ERA5 0-1 anomaly',\n",
       " 'Sentinel-1 metrics.csv',\n",
       " 'SMAP L3 Enhanced ERA5 0-1 absolute',\n",
       " 'SMAP L3 Enhanced ERA5 0-1 anomaly',\n",
       " 'SMAP L3 Enhanced metrics.csv',\n",
       " 'SMAP L3 ERA5 0-1 absolute',\n",
       " 'SMAP L3 ERA5 0-1 anomaly',\n",
       " 'SMAP L3 metrics.csv',\n",
       " 'SMAP L4 ERA5 0-1 absolute',\n",
       " 'SMAP L4 ERA5 0-1 anomaly',\n",
       " 'SMAP L4 metrics.csv',\n",
       " 'SMOS-BEC ERA5 0-1 absolute',\n",
       " 'SMOS-BEC ERA5 0-1 anomaly',\n",
       " 'SMOS-BEC metrics.csv',\n",
       " 'SMOS-IC ERA5 0-1 absolute',\n",
       " 'SMOS-IC ERA5 0-1 anomaly',\n",
       " 'SMOS-IC metrics.csv']"
      ]
     },
     "execution_count": 286,
     "metadata": {},
     "output_type": "execute_result"
    }
   ],
   "source": [
    "# \"C:\\git\\soil-moisture-sweden\\analysis_output\\ERA5 0-1 grid evaluation 20210407124502\"\n",
    "grid_metrics_dir = r\"../analysis_output/ERA5 0-1 grid evaluation 20210407124502\"\n",
    "print(grid_metrics_dir)\n",
    "os.getcwd()\n",
    "os.listdir(grid_metrics_dir)"
   ]
  },
  {
   "cell_type": "code",
   "execution_count": 287,
   "metadata": {},
   "outputs": [
    {
     "name": "stdout",
     "output_type": "stream",
     "text": [
      "['ASCAT 12.5 TS metrics.csv', 'CCI Active metrics.csv', 'CCI Combined metrics.csv', 'CCI Passive metrics.csv', 'GLDAS metrics.csv', 'Sentinel-1 metrics.csv', 'SMAP L3 Enhanced metrics.csv', 'SMAP L3 metrics.csv', 'SMAP L4 metrics.csv', 'SMOS-BEC metrics.csv', 'SMOS-IC metrics.csv']\n"
     ]
    }
   ],
   "source": [
    "grid_metrics_csvs = get_filenames(grid_metrics_dir)\n",
    "print(grid_metrics_csvs)"
   ]
  },
  {
   "cell_type": "code",
   "execution_count": 288,
   "metadata": {},
   "outputs": [
    {
     "name": "stdout",
     "output_type": "stream",
     "text": [
      "ASCAT 12.5 TS\n",
      "Index(['ref_dataset', 'eval_dataset', 'timefilter', 'anomaly', 'loc', 'lon',\n",
      "       'lat', 'veg_class', 'pearson_r', 'pearson_r_p-value', 'bias', 'rmsd',\n",
      "       'ubrmsd', 'n', 'pearson_sig'],\n",
      "      dtype='object')\n",
      "No-Timefilter\n",
      "(900, 15)\n",
      "Y2015\n",
      "(967, 15)\n",
      "Y2016\n",
      "(765, 15)\n",
      "Y2017\n",
      "(981, 15)\n",
      "Y2018\n",
      "(972, 15)\n",
      "winter\n",
      "(1101, 15)\n",
      "spring\n",
      "(1035, 15)\n",
      "summer\n",
      "(1184, 15)\n",
      "fall\n",
      "(1217, 15)\n"
     ]
    },
    {
     "name": "stderr",
     "output_type": "stream",
     "text": [
      "C:\\ProgramData\\Anaconda3\\envs\\sm_win\\lib\\site-packages\\ipykernel_launcher.py:14: UserWarning: Boolean Series key will be reindexed to match DataFrame index.\n",
      "  \n"
     ]
    },
    {
     "name": "stdout",
     "output_type": "stream",
     "text": [
      "Y2015-winter\n",
      "(872, 15)\n",
      "Y2016-winter\n",
      "(1033, 15)\n",
      "Y2017-winter\n",
      "(818, 15)\n",
      "Y2018-winter\n",
      "(1143, 15)\n",
      "Y2015-spring\n",
      "(1036, 15)\n",
      "Y2016-spring\n",
      "(849, 15)\n",
      "Y2017-spring\n",
      "(823, 15)\n",
      "Y2018-spring\n",
      "(947, 15)\n",
      "Y2015-summer\n",
      "(1151, 15)\n",
      "Y2016-summer\n",
      "(1177, 15)\n",
      "Y2017-summer\n",
      "(1045, 15)\n",
      "Y2018-summer\n",
      "(893, 15)\n",
      "Y2015-fall\n",
      "(1212, 15)\n",
      "Y2016-fall\n",
      "(1213, 15)\n",
      "Y2017-fall\n",
      "(1217, 15)\n",
      "Y2018-fall\n",
      "(1209, 15)\n",
      "M01\n",
      "(1052, 15)\n",
      "M02\n",
      "(1087, 15)\n",
      "M03\n",
      "(995, 15)\n",
      "M04\n",
      "(1052, 15)\n",
      "M05\n",
      "(605, 15)\n",
      "M06\n",
      "(1122, 15)\n",
      "M07\n",
      "(1200, 15)\n",
      "M08\n",
      "(1208, 15)\n",
      "M09\n",
      "(1215, 15)\n",
      "M10\n",
      "(1217, 15)\n",
      "M11\n",
      "(1212, 15)\n",
      "M12\n",
      "(897, 15)\n",
      "Y2015-M01\n",
      "(895, 15)\n",
      "Y2016-M01\n",
      "(788, 15)\n",
      "Y2017-M01\n",
      "(669, 15)\n",
      "Y2018-M01\n",
      "(777, 15)\n",
      "Y2015-M02\n",
      "(728, 15)\n",
      "Y2016-M02\n",
      "(822, 15)\n",
      "Y2017-M02\n",
      "(851, 15)\n",
      "Y2018-M02\n",
      "(437, 15)\n",
      "Y2015-M03\n",
      "(733, 15)\n",
      "Y2016-M03\n",
      "(877, 15)\n",
      "Y2017-M03\n",
      "(875, 15)\n",
      "Y2018-M03\n",
      "(776, 15)\n",
      "Y2015-M04\n",
      "(893, 15)\n",
      "Y2016-M04\n",
      "(814, 15)\n",
      "Y2017-M04\n",
      "(863, 15)\n",
      "Y2018-M04\n",
      "(984, 15)\n",
      "Y2015-M05\n",
      "(984, 15)\n",
      "Y2016-M05\n",
      "(874, 15)\n",
      "Y2017-M05\n",
      "(617, 15)\n",
      "Y2018-M05\n",
      "(737, 15)\n",
      "Y2015-M06\n",
      "(833, 15)\n",
      "Y2016-M06\n",
      "(1065, 15)\n",
      "Y2017-M06\n",
      "(871, 15)\n",
      "Y2018-M06\n",
      "(662, 15)\n",
      "Y2015-M07\n",
      "(921, 15)\n",
      "Y2016-M07\n",
      "(794, 15)\n",
      "Y2017-M07\n",
      "(992, 15)\n",
      "Y2018-M07\n",
      "(744, 15)\n",
      "Y2015-M08\n",
      "(1022, 15)\n",
      "Y2016-M08\n",
      "(1171, 15)\n",
      "Y2017-M08\n",
      "(1171, 15)\n",
      "Y2018-M08\n",
      "(1102, 15)\n",
      "Y2015-M09\n",
      "(1217, 15)\n",
      "Y2016-M09\n",
      "(1212, 15)\n",
      "Y2017-M09\n",
      "(1211, 15)\n",
      "Y2018-M09\n",
      "(1032, 15)\n",
      "Y2015-M10\n",
      "(1036, 15)\n",
      "Y2016-M10\n",
      "(1216, 15)\n",
      "Y2017-M10\n",
      "(1211, 15)\n",
      "Y2018-M10\n",
      "(962, 15)\n",
      "Y2015-M11\n",
      "(936, 15)\n",
      "Y2016-M11\n",
      "(1111, 15)\n",
      "Y2017-M11\n",
      "(958, 15)\n",
      "Y2018-M11\n",
      "(1135, 15)\n",
      "Y2015-M12\n",
      "(998, 15)\n",
      "Y2016-M12\n",
      "(927, 15)\n",
      "Y2017-M12\n",
      "(945, 15)\n",
      "Y2018-M12\n",
      "(629, 15)\n"
     ]
    }
   ],
   "source": [
    "for fn in grid_metrics_csvs[0:1]:\n",
    "    pn = fn.replace(\" metrics.csv\", \"\")\n",
    "    print(pn)\n",
    "    f = os.path.join(grid_metrics_dir, fn)\n",
    "    df = pandas.read_csv(f)\n",
    "#     print(df)\n",
    "    print(df.columns)\n",
    "#     print([df.timefilter.unique()])\n",
    "    # filter df by timefilter values\n",
    "    # filter out insignificant and non-anomaly rows\n",
    "    df_sub = df[(df.pearson_sig == True) & (df.anomaly == True)]\n",
    "    for timefilter in df.timefilter.unique():\n",
    "        if timefilter != \"all\":\n",
    "            df_tf = df_sub[df.timefilter == timefilter]\n",
    "#             print(df_tf)\n",
    "            print(timefilter)\n",
    "            print(df_tf.shape)\n",
    "            # create and output map\n",
    "        # lon = col 5, lat = col 6\n",
    "            geometry = [Point(xy) for xy in zip(df.iloc[:, 5], df.iloc[:, 6])]\n",
    "            gdf = geopandas.GeoDataFrame(df, geometry=geometry)\n",
    "#             gdf.plot(column='pearson_r', legend=True)\n",
    "            if timefilter == \"No-Timefilter\":\n",
    "                for veg_class in df.veg_class.unique():\n",
    "                    if veg_class not in config.ignore_veg_classes:\n",
    "                        df_vc = df_tf[df_tf.veg_class == veg_class]\n",
    "#                         print(veg_class)\n",
    "#                         print(df_vc.shape)\n",
    "                        # create and output map\n",
    "#     print(df.timefilter.unique()) \n",
    "#     print(df)\n",
    "#     geometry = [Point(xy) for xy in zip(df.iloc[:, 0], df.iloc[:, 1])]"
   ]
  },
  {
   "cell_type": "code",
   "execution_count": 289,
   "metadata": {},
   "outputs": [
    {
     "data": {
      "text/plain": [
       "<matplotlib.axes._subplots.AxesSubplot at 0x2e136b5e208>"
      ]
     },
     "execution_count": 289,
     "metadata": {},
     "output_type": "execute_result"
    },
    {
     "data": {
      "image/png": "[encoded data removed]",
      "text/plain": [
       "<Figure size 432x288 with 2 Axes>"
      ]
     },
     "metadata": {
      "needs_background": "light"
     },
     "output_type": "display_data"
    }
   ],
   "source": [
    "# lon = col 5, lat = col 6\n",
    "geometry = [Point(xy) for xy in zip(df.iloc[:, 5], df.iloc[:, 6])]\n",
    "gdf = geopandas.GeoDataFrame(df, geometry=geometry)\n",
    "gdf.plot(column='pearson_r', legend=True)"
   ]
  },
  {
   "cell_type": "code",
   "execution_count": 290,
   "metadata": {},
   "outputs": [],
   "source": [
    "# import os\n",
    "# import gdal\n",
    "\n",
    "# dir_with_csvs = r\"/home/panda\"\n",
    "# os.chdir(dir_with_csvs)\n",
    "\n",
    "# def find_csv_filenames(path_to_dir, suffix=\".csv\"):\n",
    "#     filenames = os.listdir(path_to_dir)\n",
    "#     return [ filename for filename in filenames if filename.endswith(suffix) ]\n",
    "# csvfiles = find_csv_filenames(dir_with_csvs)\n",
    "# for fn in csvfiles:\n",
    "#     vrt_fn = fn.replace(\".csv\", \".vrt\")\n",
    "#     lyr_name = fn.replace('.csv', '')\n",
    "#     out_tif = fn.replace('.csv', '.tiff')\n",
    "#     with open(vrt_fn, 'w') as fn_vrt:\n",
    "#         fn_vrt.write('<OGRVRTDataSource>\\n')\n",
    "#         fn_vrt.write('\\t<OGRVRTLayer name=\"%s\">\\n' % lyr_name)\n",
    "#         fn_vrt.write('\\t\\t<SrcDataSource>%s</SrcDataSource>\\n' % fn)\n",
    "#         fn_vrt.write('\\t\\t<GeometryType>wkbPoint</GeometryType>\\n')\n",
    "#         fn_vrt.write('\\t\\t<GeometryField encoding=\"PointFromColumns\" x=\"Lon\" y=\"Lat\" z=\"Ref\"/>\\n')\n",
    "#         fn_vrt.write('\\t</OGRVRTLayer>\\n')\n",
    "#         fn_vrt.write('</OGRVRTDataSource>\\n')\n",
    "\n",
    "# output = gdal.Grid('outcome.tif','name.vrt')\n",
    "# # below using your settings - I don't have sample large enough to properly test it, but it is generating file as well  \n",
    "# output2 = gdal.Grid('outcome2.tif','name.vrt', algorithm='invdist:power=2.0:smoothing=1.0')  "
   ]
  }
 ],
 "metadata": {
  "kernelspec": {
   "display_name": "sm_win",
   "language": "python",
   "name": "sm_win"
  },
  "language_info": {
   "codemirror_mode": {
    "name": "ipython",
    "version": 3
   },
   "file_extension": ".py",
   "mimetype": "text/x-python",
   "name": "python",
   "nbconvert_exporter": "python",
   "pygments_lexer": "ipython3",
   "version": "3.6.10"
  }
 },
 "nbformat": 4,
 "nbformat_minor": 4
}
