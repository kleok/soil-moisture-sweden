{
 "cells": [
  {
   "cell_type": "code",
   "execution_count": null,
   "metadata": {},
   "outputs": [],
   "source": [
    "# from numpy import cov\n",
    "import os\n",
    "import pandas\n",
    "import geopandas\n",
    "from shapely.geometry import Point\n",
    "import sys\n",
    "import matplotlib\n",
    "# from pytesmo.time_series.anomaly import calc_anomaly\n",
    "# from pytesmo.time_series.anomaly import calc_anomaly\n",
    "sys.path.append('../python')\n",
    "sys.path.append('../../icos_data')\n",
    "sys.path.append('../../ismn_data\\HOBE_Data_2015-2018')\n",
    "import sm_config as config\n",
    "import sm_tools as tools\n",
    "import sm_triplecollocation"
   ]
  },
  {
   "cell_type": "code",
   "execution_count": null,
   "metadata": {},
   "outputs": [],
   "source": [
    "def get_filenames(path_to_dir, suffix=\".csv\"):\n",
    "    filenames = os.listdir(path_to_dir)\n",
    "    return [ filename for filename in filenames if filename.endswith(suffix) ]"
   ]
  },
  {
   "cell_type": "code",
   "execution_count": null,
   "metadata": {},
   "outputs": [],
   "source": [
    "def get_basemap(f, color=\"white\", edgecolor=\"silver\", figsize=(9,6)):\n",
    "    base = geopandas.read_file(f)\n",
    "    plot = base.plot(color=color, edgecolor=edgecolor, figsize=figsize)\n",
    "    return plot"
   ]
  },
  {
   "cell_type": "code",
   "execution_count": null,
   "metadata": {},
   "outputs": [],
   "source": [
    "# grid evaluation metrics\n",
    "def grid_metrics_output(grid_metrics_dir, output_dir, base_shp, include_months=False, metric=\"pearson_r\"):\n",
    "    base = get_basemap(base_shp)\n",
    "#     sweden = geopandas.read_file(r\"../basemap/SWE_adm0.shp\")\n",
    "    # sweden_shape.boundary.plot()\n",
    "#     sweden = sweden_shape.plot(color='white', edgecolor='silver')\n",
    "#     base = sweden.plot(color='white', edgecolor='silver', figsize=(9,6))\n",
    "    if not os.path.exists(output_dir):\n",
    "        os.mkdir(output_dir)\n",
    "    grid_metrics_csvs = get_filenames(grid_metrics_dir)\n",
    "    for fn in grid_metrics_csvs:\n",
    "        pn = fn.replace(\" metrics.csv\", \"\")\n",
    "        pn_dir = os.path.join(output_dir, pn)\n",
    "        if not os.path.exists(pn_dir):\n",
    "            os.mkdir(pn_dir)\n",
    "        f = os.path.join(grid_metrics_dir, fn)\n",
    "        df = pandas.read_csv(f)\n",
    "        df = df[['lon', 'lat', 'anomaly', 'timefilter', metric, 'pearson_sig']]\n",
    "        # filter out insignificant and non-anomaly rows\n",
    "        df_sub = df[(df.pearson_sig) & (df.anomaly == True)]\n",
    "        # filter df_sub by timefilter values\n",
    "        tfs = [tf for tf in df.timefilter.unique() if tf != \"all\"]\n",
    "        if not include_months:\n",
    "            tfs = [tf for tf in tfs if \"M\" not in tf]\n",
    "        for timefilter in tfs:\n",
    "#             matplotlib.pyplot.clf()\n",
    "#         if timefilter == \"No-Timefilter\":\n",
    "            tf_dir = os.path.join(output_dir, timefilter)\n",
    "            if not os.path.exists(tf_dir):\n",
    "                os.mkdir(tf_dir)\n",
    "            df_tf = df_sub[df.timefilter == timefilter]\n",
    "            # create and output map\n",
    "            gm_geo = [Point(xy) for xy in zip(df_tf.iloc[:, 0], df_tf.iloc[:, 1])]\n",
    "            gm_gdf = geopandas.GeoDataFrame(df_tf, geometry=gm_geo)\n",
    "#             print(gdf)\n",
    "            # suppressing legend for now because otherwise it is outputting multiple legends\n",
    "#             gm_gdf.plot(column=metric)\n",
    "            gm_gdf.plot(ax=base, column=metric, figsize=(6,6))\n",
    "#             gdf.plot(ax=base, column=metric, legend=True, legend_kwds={'label': \" R (p < 0.05)\"}, figsize=(6,6))\n",
    "            matplotlib.pyplot.suptitle(\"{} x ERA5 ({})\".format(pn, timefilter))\n",
    "            # save one copy of figure in timeframe subdirectory\n",
    "            matplotlib.pyplot.savefig(os.path.join(tf_dir, \"{} {}.jpg\".format(pn, timefilter)))\n",
    "            # save one copy of figure in product name subdirectory\n",
    "            matplotlib.pyplot.savefig(os.path.join(pn_dir, \"{} {}.jpg\".format(pn, timefilter)))\n",
    "#             matplotlib.pyplot.clf()\n",
    "#             matplotlib.axes.Axes.get_legend().remove()\n"
   ]
  },
  {
   "cell_type": "code",
   "execution_count": null,
   "metadata": {},
   "outputs": [],
   "source": [
    "def tc_metrics_output(csv, output_dir, base_shp, metric=\"r\"):\n",
    "    base = get_basemap(base_shp)\n",
    "#     sweden = geopandas.read_file(r\"../basemap/SWE_adm0.shp\")\n",
    "    # sweden_shape.boundary.plot()\n",
    "#     sweden = sweden_shape.plot(color='white', edgecolor='silver')\n",
    "#     base = sweden.plot(color='white', edgecolor='silver', figsize=(9,6))\n",
    "    df = pandas.read_csv(csv)\n",
    "#     print(df.shape)\n",
    "    df = df[['lon', 'lat', 'prod_name', 'triplet', metric]]\n",
    "#     print(df.shape)\n",
    "    df.dropna(inplace=True)\n",
    "#     print(df.shape)\n",
    "    triplets = df.triplet.unique()\n",
    "#     print(triplets)\n",
    "#     print(df.prod_name)\n",
    "#     print(pns)\n",
    "    for t in triplets:\n",
    "        # ('SMAP L3 Enhanced', 'ERA5 0-1', 'ASCAT 12.5 TS')\n",
    "        t_str = t.replace(\"('\", \"\").replace(\"')\", \"\").replace(\"', '\", \"_\")\n",
    "        df_t = df[df.triplet == t]\n",
    "#         print(df_t.head())\n",
    "        pns = df_t.prod_name.unique()\n",
    "        for pn in pns:\n",
    "            output_subdir = os.path.join(output_dir, t_str, pn)\n",
    "#             print(output_subdir)\n",
    "            if not os.path.exists(output_subdir):\n",
    "                os.makedirs(output_subdir)\n",
    "            df_p = df_t[df_t.prod_name == pn]\n",
    "            # create and output map\n",
    "#             print(\"df p\")\n",
    "#             print(df_p.shape)\n",
    "#             print(df_p.head())\n",
    "#             print(df_p.iloc[:, lon])\n",
    "#             print(df_p.iloc[:, lat])\n",
    "            tc_geo = [Point(xy) for xy in zip(df_p.iloc[:, 0], df_p.iloc[:, 1])]\n",
    "#             print(len(geometry))\n",
    "#             print(geometry)\n",
    "            tc_gdf = geopandas.GeoDataFrame(df_p, geometry=tc_geo)\n",
    "#             print(gdf)\n",
    "            # suppressing legend for now because otherwise it is outputting multiple legends\n",
    "#             print(df_p.r)\n",
    "#             tc_gdf.plot(column=metric)\n",
    "            tc_gdf.plot(ax=base, column=metric, figsize=(6,6))\n",
    "#             gdf.plot(ax=base, column=metric, figsize=(6,6))\n",
    "#             gdf.plot(ax=base, column=metric, legend=True, legend_kwds={'label': \" R (p < 0.05)\"}, figsize=(6,6))\n",
    "            matplotlib.pyplot.suptitle(\"{} ({})\".format(pn, metric))\n",
    "            # save figure in subdirectory\n",
    "            matplotlib.pyplot.savefig(os.path.join(output_subdir, \"{} {}.jpg\".format(pn, metric)))"
   ]
  },
  {
   "cell_type": "code",
   "execution_count": null,
   "metadata": {},
   "outputs": [],
   "source": [
    "# world_filepath = geopandas.datasets.get_path('naturalearth_lowres')\n",
    "# world = geopandas.read_file(world_filepath)\n",
    "# world.head()\n",
    "# sweden = world.loc[world['name'] == 'Sweden'] # get Sweden row\n",
    "# boundaries = sweden['geometry'] # get Sweden geometry\n",
    "# sweden.head()\n",
    "# sweden.boundary.plot()\n",
    "# base = sweden.plot(color='white', edgecolor='silver')\n",
    "# sweden.boundary.plot()\n"
   ]
  },
  {
   "cell_type": "code",
   "execution_count": null,
   "metadata": {},
   "outputs": [],
   "source": [
    "# import pandas as pd\n",
    "# import geopandas\n",
    "# from shapely.geometry import Point\n",
    "# import matplotlib.pyplot as plt\n",
    "\n",
    "# df = pd.read_csv('name.csv')\n",
    "\n",
    "# geometry = [Point(xy) for xy in zip(df.iloc[:, 0], df.iloc[:, 1])]\n",
    "\n",
    "# gdf = geopandas.GeoDataFrame(df, geometry=geometry)\n",
    "\n",
    "# gdf.plot(column=' Ref')\n",
    "\n",
    "# plt.savefig('raster.tiff')"
   ]
  },
  {
   "cell_type": "code",
   "execution_count": null,
   "metadata": {},
   "outputs": [],
   "source": [
    "# \"C:\\git\\soil-moisture-sweden\\analysis_output\\ERA5 0-1 grid evaluation 20210407124502\"\n",
    "# grid_metrics_dir = r\"../analysis_output/ERA5 0-1 grid evaluation 20210407124502\"\n",
    "# print(grid_metrics_dir)\n",
    "# os.getcwd()\n",
    "# os.listdir(grid_metrics_dir)"
   ]
  },
  {
   "cell_type": "code",
   "execution_count": null,
   "metadata": {},
   "outputs": [],
   "source": [
    "# grid_metrics_csvs = get_filenames(grid_metrics_dir)\n",
    "# print(grid_metrics_csvs)"
   ]
  },
  {
   "cell_type": "code",
   "execution_count": null,
   "metadata": {},
   "outputs": [],
   "source": [
    "# sweden_shape = geopandas.read_file(r\"../basemap/SWE_adm0.shp\")\n",
    "# # sweden_shape.boundary.plot()\n",
    "# sweden = sweden_shape.plot(color='white', edgecolor='silver')"
   ]
  },
  {
   "cell_type": "code",
   "execution_count": null,
   "metadata": {},
   "outputs": [],
   "source": [
    "grid_metrics_dir = r\"../analysis_output/ERA5 0-1 grid evaluation 20210407124502\"\n",
    "grid_map_output_dir = r\"../analysis_output/grid_evaluation_maps\"\n",
    "sweden_shp = r\"../basemap/SWE_adm0.shp\"\n",
    "\n",
    "# grid_metrics_output(grid_metrics_dir, grid_map_output_dir, sweden_shp)"
   ]
  },
  {
   "cell_type": "code",
   "execution_count": null,
   "metadata": {},
   "outputs": [],
   "source": [
    "tc_metrics_csv = r\"../analysis_output/tc_analysis_20210314104637/tc_metrics.csv\"\n",
    "tc_map_output_dir = r\"../analysis_output/tc_evaluation_maps\"\n",
    "\n",
    "tc_metrics_output(tc_metrics_csv, tc_map_output_dir, sweden_shp)"
   ]
  }
 ],
 "metadata": {
  "kernelspec": {
   "display_name": "sm_win",
   "language": "python",
   "name": "sm_win"
  },
  "language_info": {
   "codemirror_mode": {
    "name": "ipython",
    "version": 3
   },
   "file_extension": ".py",
   "mimetype": "text/x-python",
   "name": "python",
   "nbconvert_exporter": "python",
   "pygments_lexer": "ipython3",
   "version": "3.6.10"
  }
 },
 "nbformat": 4,
 "nbformat_minor": 4
}
