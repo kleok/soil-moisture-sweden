{
 "cells": [
  {
   "cell_type": "code",
   "execution_count": 81,
   "metadata": {},
   "outputs": [],
   "source": [
    "from numpy import cov\n",
    "import os\n",
    "import pandas\n",
    "import sys\n",
    "from pytesmo.time_series.anomaly import calc_anomaly\n",
    "from pytesmo.time_series.anomaly import calc_anomaly\n",
    "sys.path.append('../python')\n",
    "sys.path.append('../../icos_data')\n",
    "sys.path.append('../../ismn_data\\HOBE_Data_2015-2018')\n",
    "import sm_config as config\n",
    "import sm_tools as tools\n",
    "import sm_triplecollocation"
   ]
  },
  {
   "cell_type": "code",
   "execution_count": 82,
   "metadata": {},
   "outputs": [],
   "source": [
    "f = \"matched_SMOS-IC_ERA5 0-1_ASCAT 12.5 TS_anomaly_879190.csv\"\n",
    "triplet = (f.split(\"_\"))\n",
    "triplet = (triplet[1], triplet[2], triplet[3])"
   ]
  },
  {
   "cell_type": "code",
   "execution_count": 83,
   "metadata": {},
   "outputs": [],
   "source": [
    "dir = r\"C:\\Users\\neene\\Documents\\LuDrive\\academic\\Lund\\GISM01\\Soil moisture thesis\\test_results\\20210314_sanity_check\\tc_analysis_20210307181412\\matched_data\""
   ]
  },
  {
   "cell_type": "code",
   "execution_count": 84,
   "metadata": {},
   "outputs": [],
   "source": [
    "f = os.path.join(dir, f)"
   ]
  },
  {
   "cell_type": "code",
   "execution_count": 85,
   "metadata": {},
   "outputs": [
    {
     "name": "stdout",
     "output_type": "stream",
     "text": [
      "C:\\Users\\neene\\Documents\\LuDrive\\academic\\Lund\\GISM01\\Soil moisture thesis\\test_results\\20210314_sanity_check\\tc_analysis_20210307181412\\matched_data\\matched_SMOS-IC_ERA5 0-1_ASCAT 12.5 TS_anomaly_879190.csv\n"
     ]
    }
   ],
   "source": [
    "print(f)"
   ]
  },
  {
   "cell_type": "code",
   "execution_count": 86,
   "metadata": {},
   "outputs": [],
   "source": [
    "matched_data = tools.csv_to_pdseries(f)\n"
   ]
  },
  {
   "cell_type": "code",
   "execution_count": 87,
   "metadata": {},
   "outputs": [
    {
     "name": "stdout",
     "output_type": "stream",
     "text": [
      "                      SMOS-IC  ERA5 0-1  ASCAT 12.5 TS\n",
      "time                                                  \n",
      "2015-04-01 05:00:00  0.031211 -0.011438      13.124371\n",
      "2015-04-06 05:00:00 -0.070565 -0.011252      -1.277074\n",
      "2015-04-11 05:00:00 -0.080283  0.016174       4.934201\n",
      "2015-04-13 05:00:00 -0.022997  0.019963      -2.879258\n",
      "2015-04-16 05:00:00 -0.059345 -0.000394      -2.602035\n",
      "...                       ...       ...            ...\n",
      "2018-12-17 05:00:00 -0.103184 -0.006385      -2.777856\n",
      "2018-12-21 05:00:00  0.092757 -0.014696       2.066251\n",
      "2018-12-22 05:00:00 -0.073962 -0.015705       3.006251\n",
      "2018-12-25 05:00:00  0.017992 -0.021385       4.324998\n",
      "2018-12-30 05:00:00 -0.048241 -0.000053      -6.696249\n",
      "\n",
      "[317 rows x 3 columns]\n",
      "(317, 3)\n"
     ]
    }
   ],
   "source": [
    "print(matched_data)\n",
    "print(matched_data.shape)"
   ]
  },
  {
   "cell_type": "code",
   "execution_count": 93,
   "metadata": {},
   "outputs": [],
   "source": [
    "x = matched_data[triplet[0]].to_numpy()\n",
    "y = matched_data[triplet[1]].to_numpy()\n",
    "z = matched_data[triplet[2]].to_numpy()"
   ]
  },
  {
   "cell_type": "code",
   "execution_count": 98,
   "metadata": {},
   "outputs": [
    {
     "name": "stdout",
     "output_type": "stream",
     "text": [
      "[[0.00954269 0.00954269]\n",
      " [0.00954269 0.00954269]]\n",
      "[[0.00954269 0.00034926]\n",
      " [0.00034926 0.00054809]]\n",
      "[[9.54269054e-03 3.23244544e-01]\n",
      " [3.23244544e-01 1.73916414e+02]]\n",
      "[[0.00054809 0.00054809]\n",
      " [0.00054809 0.00054809]]\n",
      "[[5.48086285e-04 8.31819597e-02]\n",
      " [8.31819597e-02 1.73916414e+02]]\n",
      "[[173.91641414 173.91641414]\n",
      " [173.91641414 173.91641414]]\n"
     ]
    }
   ],
   "source": [
    "# matches grey nearing matlab\n",
    "print(cov(x,x))\n",
    "print(cov(x,y))\n",
    "print(cov(x,z))\n",
    "print(cov(y,y))\n",
    "print(cov(y,z))\n",
    "print(cov(z,z))"
   ]
  },
  {
   "cell_type": "code",
   "execution_count": 92,
   "metadata": {},
   "outputs": [
    {
     "name": "stdout",
     "output_type": "stream",
     "text": [
      "[[9.54269054e-03 3.49257629e-04 3.23244544e-01]\n",
      " [5.48086285e-04 8.31819597e-02 3.49257629e-04]\n",
      " [1.73916414e+02 3.23244544e-01 8.31819597e-02]]\n"
     ]
    }
   ],
   "source": [
    "tcol_cov = tools.calc_tcol_cov(matched_data[triplet[0]].to_numpy(),\n",
    "                               matched_data[triplet[1]].to_numpy(),\n",
    "                               matched_data[triplet[2]].to_numpy())\n",
    "print(tcol_cov)"
   ]
  },
  {
   "cell_type": "code",
   "execution_count": 99,
   "metadata": {},
   "outputs": [
    {
     "name": "stdout",
     "output_type": "stream",
     "text": [
      "[-7.80396073 -7.07420965 -1.00043479]\n",
      "[-7.80396073 -7.07420965 -1.00043479]\n",
      "[0.09047363 0.08318298 0.04133764]\n",
      "[1.         3.88599337 0.00419872]\n",
      "[ 1.07096835  1.07918046 47.96851992]\n"
     ]
    }
   ],
   "source": [
    "snr, err_std, beta = tools.calc_tcol_snr(matched_data[triplet[0]].to_numpy(),\n",
    "                                         matched_data[triplet[1]].to_numpy(),\n",
    "                                         matched_data[triplet[2]].to_numpy())\n",
    "\n",
    "r = tools.calc_tcol_r(snr)\n",
    "\n",
    "print(snr)\n",
    "print(err_std)\n",
    "print(beta)\n",
    "print(r)"
   ]
  }
 ],
 "metadata": {
  "kernelspec": {
   "display_name": "sm_win",
   "language": "python",
   "name": "sm_win"
  },
  "language_info": {
   "codemirror_mode": {
    "name": "ipython",
    "version": 3
   },
   "file_extension": ".py",
   "mimetype": "text/x-python",
   "name": "python",
   "nbconvert_exporter": "python",
   "pygments_lexer": "ipython3",
   "version": "3.6.10"
  }
 },
 "nbformat": 4,
 "nbformat_minor": 4
}
