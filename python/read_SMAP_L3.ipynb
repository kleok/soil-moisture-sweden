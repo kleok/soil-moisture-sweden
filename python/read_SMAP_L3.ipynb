{
 "cells": [
  {
   "cell_type": "code",
   "execution_count": 37,
   "outputs": [],
   "source": [
    "from smap_io import SPL3SMP_Ds, SPL3SMP_Img\n",
    "from datetime import datetime\n",
    "import os"
   ],
   "metadata": {
    "collapsed": false,
    "pycharm": {
     "name": "#%%\n",
     "is_executing": false
    }
   }
  },
  {
   "cell_type": "code",
   "execution_count": 38,
   "outputs": [
    {
     "data": {
      "text/plain": "['SMAP_L3_SM_P_20180601_R16510_001.h5',\n 'SMAP_L3_SM_P_20180602_R16510_001.h5',\n 'SMAP_L3_SM_P_20180603_R16510_001.h5',\n 'SMAP_L3_SM_P_20180604_R16510_001.h5',\n 'SMAP_L3_SM_P_20180605_R16510_001.h5',\n 'SMAP_L3_SM_P_20180606_R16510_001.h5',\n 'SMAP_L3_SM_P_20180607_R16510_001.h5',\n 'SMAP_L3_SM_P_20180608_R16510_001.h5',\n 'SMAP_L3_SM_P_20180609_R16510_001.h5',\n 'SMAP_L3_SM_P_20180610_R16510_001.h5',\n 'SMAP_L3_SM_P_20180611_R16510_001.h5',\n 'SMAP_L3_SM_P_20180612_R16510_001.h5',\n 'SMAP_L3_SM_P_20180613_R16510_001.h5',\n 'SMAP_L3_SM_P_20180614_R16510_001.h5',\n 'SMAP_L3_SM_P_20180615_R16510_001.h5',\n 'SMAP_L3_SM_P_20180616_R16510_001.h5',\n 'SMAP_L3_SM_P_20180617_R16510_001.h5',\n 'SMAP_L3_SM_P_20180618_R16510_001.h5',\n 'SMAP_L3_SM_P_20180619_R16510_001.h5',\n 'SMAP_L3_SM_P_20180620_R16510_001.h5',\n 'SMAP_L3_SM_P_20180621_R16510_001.h5',\n 'SMAP_L3_SM_P_20180622_R16510_001.h5',\n 'SMAP_L3_SM_P_20180623_R16510_001.h5',\n 'SMAP_L3_SM_P_20180624_R16510_001.h5',\n 'SMAP_L3_SM_P_20180625_R16510_001.h5',\n 'SMAP_L3_SM_P_20180626_R16510_001.h5',\n 'SMAP_L3_SM_P_20180627_R16510_001.h5',\n 'SMAP_L3_SM_P_20180628_R16510_001.h5',\n 'SMAP_L3_SM_P_20180629_R16510_001.h5',\n 'SMAP_L3_SM_P_20180630_R16510_001.h5']"
     },
     "metadata": {},
     "output_type": "execute_result",
     "execution_count": 38
    }
   ],
   "source": [
    "data_path = r'C:\\git\\soil-moisture-sweden\\sm_sample_files\\SPL3SMP-smap-l3-36km\\20180601_20180630'\n",
    "os.listdir(data_path)"
   ],
   "metadata": {
    "collapsed": false,
    "pycharm": {
     "name": "#%%\n",
     "is_executing": false
    }
   }
  },
  {
   "cell_type": "code",
   "execution_count": 39,
   "outputs": [
    {
     "data": {
      "text/plain": "(406, 964)"
     },
     "metadata": {},
     "output_type": "execute_result",
     "execution_count": 39
    }
   ],
   "source": [
    "# trying to read a single image\n",
    "file_path = r'C:\\git\\soil-moisture-sweden\\sm_sample_files\\SPL3SMP-smap-l3-36km\\20180601_20180630\\SMAP_L3_SM_P_20180606_R16510_001.h5'\n",
    "# image_reader = SPL3SMP_Img(file_path, overpass=None, var_overpass_str=False)\n",
    "\n",
    "# works when I put an overpass in\n",
    "image_reader = SPL3SMP_Img(file_path, overpass='AM')\n",
    "# print(image_reader.keys())\n",
    "image = image_reader.read()\n",
    "image.data['soil_moisture'].shape"
   ],
   "metadata": {
    "collapsed": false,
    "pycharm": {
     "name": "#%%\n",
     "is_executing": false
    }
   }
  },
  {
   "cell_type": "code",
   "execution_count": 40,
   "outputs": [],
   "source": [
    "# trying to read multiple images\n",
    "# smap_reader = SPL3SMP_Ds(data_path, overpass = 'AM')\n",
    "smap_reader = SPL3SMP_Ds(data_path, overpass = 'AM', parameter = ['longitude', 'latitude', 'tb_time_utc', 'soil_moisture'])\n",
    "smap_reader.read_bulk = True\n",
    "\n",
    "# NOTE: have to suppress subpath_templ to read files that are all in one directory\n",
    "smap_reader.subpath_templ = []"
   ],
   "metadata": {
    "collapsed": false,
    "pycharm": {
     "name": "#%%\n",
     "is_executing": false
    }
   }
  },
  {
   "cell_type": "code",
   "execution_count": 41,
   "outputs": [
    {
     "traceback": [
      "\u001b[1;31m---------------------------------------------------------------------------\u001b[0m",
      "\u001b[1;31mUnboundLocalError\u001b[0m                         Traceback (most recent call last)",
      "\u001b[1;32m<ipython-input-41-be3ae97f8f6e>\u001b[0m in \u001b[0;36m<module>\u001b[1;34m\u001b[0m\n\u001b[0;32m      1\u001b[0m \u001b[1;31m# timestamps = smap_reader.tstamps_for_daterange(datetime(2018, 6, 1), datetime(2018, 6, 30))\u001b[0m\u001b[1;33m\u001b[0m\u001b[1;33m\u001b[0m\u001b[1;33m\u001b[0m\u001b[0m\n\u001b[0;32m      2\u001b[0m \u001b[1;31m# print(timestamps)\u001b[0m\u001b[1;33m\u001b[0m\u001b[1;33m\u001b[0m\u001b[1;33m\u001b[0m\u001b[0m\n\u001b[1;32m----> 3\u001b[1;33m \u001b[0msmap_image\u001b[0m \u001b[1;33m=\u001b[0m \u001b[0msmap_reader\u001b[0m\u001b[1;33m.\u001b[0m\u001b[0mread\u001b[0m\u001b[1;33m(\u001b[0m\u001b[0mdatetime\u001b[0m\u001b[1;33m(\u001b[0m\u001b[1;36m2018\u001b[0m\u001b[1;33m,\u001b[0m\u001b[1;36m6\u001b[0m\u001b[1;33m,\u001b[0m\u001b[1;36m3\u001b[0m\u001b[1;33m)\u001b[0m\u001b[1;33m)\u001b[0m\u001b[1;33m\u001b[0m\u001b[1;33m\u001b[0m\u001b[0m\n\u001b[0m\u001b[0;32m      4\u001b[0m \u001b[1;31m# print(smap_image.data)\u001b[0m\u001b[1;33m\u001b[0m\u001b[1;33m\u001b[0m\u001b[1;33m\u001b[0m\u001b[0m\n\u001b[0;32m      5\u001b[0m \u001b[1;31m# print(smap_image.data['tb_time_utc'])\u001b[0m\u001b[1;33m\u001b[0m\u001b[1;33m\u001b[0m\u001b[1;33m\u001b[0m\u001b[0m\n",
      "\u001b[1;32mC:\\ProgramData\\Anaconda3\\envs\\sm_win\\lib\\site-packages\\pygeobase\\io_base.py\u001b[0m in \u001b[0;36mread\u001b[1;34m(self, timestamp, **kwargs)\u001b[0m\n\u001b[0;32m    990\u001b[0m             \u001b[0mpygeobase\u001b[0m\u001b[1;33m.\u001b[0m\u001b[0mobject_base\u001b[0m\u001b[1;33m.\u001b[0m\u001b[0mImage\u001b[0m \u001b[0mobject\u001b[0m\u001b[1;33m\u001b[0m\u001b[1;33m\u001b[0m\u001b[0m\n\u001b[0;32m    991\u001b[0m         \"\"\"\n\u001b[1;32m--> 992\u001b[1;33m         \u001b[1;32mreturn\u001b[0m \u001b[0mself\u001b[0m\u001b[1;33m.\u001b[0m\u001b[0m_assemble_img\u001b[0m\u001b[1;33m(\u001b[0m\u001b[0mtimestamp\u001b[0m\u001b[1;33m,\u001b[0m \u001b[1;33m**\u001b[0m\u001b[0mkwargs\u001b[0m\u001b[1;33m)\u001b[0m\u001b[1;33m\u001b[0m\u001b[1;33m\u001b[0m\u001b[0m\n\u001b[0m\u001b[0;32m    993\u001b[0m \u001b[1;33m\u001b[0m\u001b[0m\n\u001b[0;32m    994\u001b[0m     \u001b[1;32mdef\u001b[0m \u001b[0mwrite\u001b[0m\u001b[1;33m(\u001b[0m\u001b[0mself\u001b[0m\u001b[1;33m,\u001b[0m \u001b[0mtimestamp\u001b[0m\u001b[1;33m,\u001b[0m \u001b[0mdata\u001b[0m\u001b[1;33m,\u001b[0m \u001b[1;33m**\u001b[0m\u001b[0mkwargs\u001b[0m\u001b[1;33m)\u001b[0m\u001b[1;33m:\u001b[0m\u001b[1;33m\u001b[0m\u001b[1;33m\u001b[0m\u001b[0m\n",
      "\u001b[1;32mC:\\ProgramData\\Anaconda3\\envs\\sm_win\\lib\\site-packages\\pygeobase\\io_base.py\u001b[0m in \u001b[0;36m_assemble_img\u001b[1;34m(self, timestamp, mask, **kwargs)\u001b[0m\n\u001b[0;32m    970\u001b[0m             \u001b[0mkwargs\u001b[0m\u001b[1;33m[\u001b[0m\u001b[1;34m'timestamp'\u001b[0m\u001b[1;33m]\u001b[0m \u001b[1;33m=\u001b[0m \u001b[0mtimestamp\u001b[0m\u001b[1;33m\u001b[0m\u001b[1;33m\u001b[0m\u001b[0m\n\u001b[0;32m    971\u001b[0m             \u001b[1;32mif\u001b[0m \u001b[0mmask\u001b[0m \u001b[1;32mis\u001b[0m \u001b[1;32mFalse\u001b[0m\u001b[1;33m:\u001b[0m\u001b[1;33m\u001b[0m\u001b[1;33m\u001b[0m\u001b[0m\n\u001b[1;32m--> 972\u001b[1;33m                 \u001b[0mimg\u001b[0m \u001b[1;33m=\u001b[0m \u001b[0mself\u001b[0m\u001b[1;33m.\u001b[0m\u001b[0mfid\u001b[0m\u001b[1;33m.\u001b[0m\u001b[0mread\u001b[0m\u001b[1;33m(\u001b[0m\u001b[1;33m**\u001b[0m\u001b[0mkwargs\u001b[0m\u001b[1;33m)\u001b[0m\u001b[1;33m\u001b[0m\u001b[1;33m\u001b[0m\u001b[0m\n\u001b[0m\u001b[0;32m    973\u001b[0m             \u001b[1;32melse\u001b[0m\u001b[1;33m:\u001b[0m\u001b[1;33m\u001b[0m\u001b[1;33m\u001b[0m\u001b[0m\n\u001b[0;32m    974\u001b[0m                 \u001b[0mimg\u001b[0m \u001b[1;33m=\u001b[0m \u001b[0mself\u001b[0m\u001b[1;33m.\u001b[0m\u001b[0mfid\u001b[0m\u001b[1;33m.\u001b[0m\u001b[0mread_masked_data\u001b[0m\u001b[1;33m(\u001b[0m\u001b[1;33m**\u001b[0m\u001b[0mkwargs\u001b[0m\u001b[1;33m)\u001b[0m\u001b[1;33m\u001b[0m\u001b[1;33m\u001b[0m\u001b[0m\n",
      "\u001b[1;32mC:\\ProgramData\\Anaconda3\\envs\\sm_win\\lib\\site-packages\\smap_io\\interface.py\u001b[0m in \u001b[0;36mread\u001b[1;34m(self, timestamp)\u001b[0m\n\u001b[0;32m    111\u001b[0m                 \u001b[0mmetadata\u001b[0m\u001b[1;33m[\u001b[0m\u001b[0mkey\u001b[0m\u001b[1;33m]\u001b[0m \u001b[1;33m=\u001b[0m \u001b[0mparam\u001b[0m\u001b[1;33m.\u001b[0m\u001b[0mattrs\u001b[0m\u001b[1;33m[\u001b[0m\u001b[0mkey\u001b[0m\u001b[1;33m]\u001b[0m\u001b[1;33m\u001b[0m\u001b[1;33m\u001b[0m\u001b[0m\n\u001b[0;32m    112\u001b[0m \u001b[1;33m\u001b[0m\u001b[0m\n\u001b[1;32m--> 113\u001b[1;33m             data = np.where(np.logical_or(data < valid_min, data > valid_max),\n\u001b[0m\u001b[0;32m    114\u001b[0m                             \u001b[0mfill_value\u001b[0m\u001b[1;33m,\u001b[0m\u001b[1;33m\u001b[0m\u001b[1;33m\u001b[0m\u001b[0m\n\u001b[0;32m    115\u001b[0m                             data)\n",
      "\u001b[1;31mUnboundLocalError\u001b[0m: local variable 'valid_min' referenced before assignment"
     ],
     "ename": "UnboundLocalError",
     "evalue": "local variable 'valid_min' referenced before assignment",
     "output_type": "error"
    }
   ],
   "source": [
    "# timestamps = smap_reader.tstamps_for_daterange(datetime(2018, 6, 1), datetime(2018, 6, 30))\n",
    "# print(timestamps)\n",
    "smap_image = smap_reader.read(datetime(2018,6,3))\n",
    "# print(smap_image.data)\n",
    "# print(smap_image.data['tb_time_utc'])\n",
    "# print(smap_image.data['tb_time_utc'].shape)"
   ],
   "metadata": {
    "collapsed": false,
    "pycharm": {
     "name": "#%%\n",
     "is_executing": false
    }
   }
  },
  {
   "cell_type": "code",
   "execution_count": null,
   "outputs": [],
   "source": [],
   "metadata": {
    "collapsed": false,
    "pycharm": {
     "name": "#%%\n",
     "is_executing": false
    }
   }
  }
 ],
 "metadata": {
  "kernelspec": {
   "display_name": "sm_win",
   "language": "python",
   "name": "sm_win"
  },
  "language_info": {
   "codemirror_mode": {
    "name": "ipython",
    "version": 3
   },
   "file_extension": ".py",
   "mimetype": "text/x-python",
   "name": "python",
   "nbconvert_exporter": "python",
   "pygments_lexer": "ipython3",
   "version": "3.6.10"
  },
  "pycharm": {
   "stem_cell": {
    "cell_type": "raw",
    "source": [],
    "metadata": {
     "collapsed": false
    }
   }
  }
 },
 "nbformat": 4,
 "nbformat_minor": 4
}