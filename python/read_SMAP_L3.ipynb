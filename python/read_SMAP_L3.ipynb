{
 "cells": [
  {
   "cell_type": "code",
   "execution_count": 24,
   "metadata": {},
   "outputs": [],
   "source": [
    "from smap_io import SPL3SMP_Ds, SPL3SMP_Img\n",
    "from datetime import datetime\n",
    "import os"
   ]
  },
  {
   "cell_type": "code",
   "execution_count": 3,
   "metadata": {
    "scrolled": true
   },
   "outputs": [
    {
     "data": {
      "text/plain": [
       "['nsidc-download_SPL3SMP.006_2020-04-28.py',\n",
       " 'SMAP_L3_SM_P_20180601_R16510_001.h5',\n",
       " 'SMAP_L3_SM_P_20180601_R16510_001.h5.iso.xml',\n",
       " 'SMAP_L3_SM_P_20180602_R16510_001.h5',\n",
       " 'SMAP_L3_SM_P_20180602_R16510_001.h5.iso.xml',\n",
       " 'SMAP_L3_SM_P_20180603_R16510_001.h5',\n",
       " 'SMAP_L3_SM_P_20180603_R16510_001.h5.iso.xml',\n",
       " 'SMAP_L3_SM_P_20180604_R16510_001.h5',\n",
       " 'SMAP_L3_SM_P_20180604_R16510_001.h5.iso.xml',\n",
       " 'SMAP_L3_SM_P_20180605_R16510_001.h5',\n",
       " 'SMAP_L3_SM_P_20180605_R16510_001.h5.iso.xml',\n",
       " 'SMAP_L3_SM_P_20180606_R16510_001.h5',\n",
       " 'SMAP_L3_SM_P_20180606_R16510_001.h5.iso.xml',\n",
       " 'SMAP_L3_SM_P_20180607_R16510_001.h5',\n",
       " 'SMAP_L3_SM_P_20180607_R16510_001.h5.iso.xml',\n",
       " 'SMAP_L3_SM_P_20180608_R16510_001.h5',\n",
       " 'SMAP_L3_SM_P_20180608_R16510_001.h5.iso.xml',\n",
       " 'SMAP_L3_SM_P_20180609_R16510_001.h5',\n",
       " 'SMAP_L3_SM_P_20180609_R16510_001.h5.iso.xml',\n",
       " 'SMAP_L3_SM_P_20180610_R16510_001.h5',\n",
       " 'SMAP_L3_SM_P_20180610_R16510_001.h5.iso.xml',\n",
       " 'SMAP_L3_SM_P_20180611_R16510_001.h5',\n",
       " 'SMAP_L3_SM_P_20180611_R16510_001.h5.iso.xml',\n",
       " 'SMAP_L3_SM_P_20180612_R16510_001.h5',\n",
       " 'SMAP_L3_SM_P_20180612_R16510_001.h5.iso.xml',\n",
       " 'SMAP_L3_SM_P_20180613_R16510_001.h5',\n",
       " 'SMAP_L3_SM_P_20180613_R16510_001.h5.iso.xml',\n",
       " 'SMAP_L3_SM_P_20180614_R16510_001.h5',\n",
       " 'SMAP_L3_SM_P_20180614_R16510_001.h5.iso.xml',\n",
       " 'SMAP_L3_SM_P_20180615_R16510_001.h5',\n",
       " 'SMAP_L3_SM_P_20180615_R16510_001.h5.iso.xml',\n",
       " 'SMAP_L3_SM_P_20180616_R16510_001.h5',\n",
       " 'SMAP_L3_SM_P_20180616_R16510_001.h5.iso.xml',\n",
       " 'SMAP_L3_SM_P_20180617_R16510_001.h5',\n",
       " 'SMAP_L3_SM_P_20180617_R16510_001.h5.iso.xml',\n",
       " 'SMAP_L3_SM_P_20180618_R16510_001.h5',\n",
       " 'SMAP_L3_SM_P_20180618_R16510_001.h5.iso.xml',\n",
       " 'SMAP_L3_SM_P_20180619_R16510_001.h5',\n",
       " 'SMAP_L3_SM_P_20180619_R16510_001.h5.iso.xml',\n",
       " 'SMAP_L3_SM_P_20180620_R16510_001.h5',\n",
       " 'SMAP_L3_SM_P_20180620_R16510_001.h5.iso.xml',\n",
       " 'SMAP_L3_SM_P_20180621_R16510_001.h5',\n",
       " 'SMAP_L3_SM_P_20180621_R16510_001.h5.iso.xml',\n",
       " 'SMAP_L3_SM_P_20180622_R16510_001.h5',\n",
       " 'SMAP_L3_SM_P_20180622_R16510_001.h5.iso.xml',\n",
       " 'SMAP_L3_SM_P_20180623_R16510_001.h5',\n",
       " 'SMAP_L3_SM_P_20180623_R16510_001.h5.iso.xml',\n",
       " 'SMAP_L3_SM_P_20180624_R16510_001.h5',\n",
       " 'SMAP_L3_SM_P_20180624_R16510_001.h5.iso.xml',\n",
       " 'SMAP_L3_SM_P_20180625_R16510_001.h5',\n",
       " 'SMAP_L3_SM_P_20180625_R16510_001.h5.iso.xml',\n",
       " 'SMAP_L3_SM_P_20180626_R16510_001.h5',\n",
       " 'SMAP_L3_SM_P_20180626_R16510_001.h5.iso.xml',\n",
       " 'SMAP_L3_SM_P_20180627_R16510_001.h5',\n",
       " 'SMAP_L3_SM_P_20180627_R16510_001.h5.iso.xml',\n",
       " 'SMAP_L3_SM_P_20180628_R16510_001.h5',\n",
       " 'SMAP_L3_SM_P_20180628_R16510_001.h5.iso.xml',\n",
       " 'SMAP_L3_SM_P_20180629_R16510_001.h5',\n",
       " 'SMAP_L3_SM_P_20180629_R16510_001.h5.iso.xml',\n",
       " 'SMAP_L3_SM_P_20180630_R16510_001.h5',\n",
       " 'SMAP_L3_SM_P_20180630_R16510_001.h5.iso.xml']"
      ]
     },
     "execution_count": 3,
     "metadata": {},
     "output_type": "execute_result"
    }
   ],
   "source": [
    "data_path = r'C:\\git\\soil-moisture-sweden\\sm_sample_files\\SPL3SMP-smap-l3-36km\\20180601_20180630'\n",
    "os.listdir(data_path)"
   ]
  },
  {
   "cell_type": "code",
   "execution_count": 35,
   "metadata": {},
   "outputs": [
    {
     "data": {
      "text/plain": [
       "(406, 964)"
      ]
     },
     "execution_count": 35,
     "metadata": {},
     "output_type": "execute_result"
    }
   ],
   "source": [
    "# trying to read a single image\n",
    "file_path = r'C:\\git\\soil-moisture-sweden\\sm_sample_files\\SPL3SMP-smap-l3-36km\\20180601_20180630\\SMAP_L3_SM_P_20180606_R16510_001.h5'\n",
    "# image_reader = SPL3SMP_Img(file_path, overpass=None, var_overpass_str=False)\n",
    "\n",
    "# works when I put an overpass in\n",
    "image_reader = SPL3SMP_Img(file_path, overpass='AM')\n",
    "# print(image_reader.keys())\n",
    "image = image_reader.read()\n",
    "image.data['soil_moisture'].shape"
   ]
  },
  {
   "cell_type": "code",
   "execution_count": 44,
   "metadata": {},
   "outputs": [],
   "source": [
    "# trying to read multiple images\n",
    "smap_reader = SPL3SMP_Ds(data_path, overpass = 'AM')\n",
    "# smap_reader = SPL3SMP_Ds(data_path, overpass = 'AM', parameter = ['longitude', 'latitude', 'tb_time_utc', 'soil_moisture'])\n",
    "smap_reader.read_bulk = True\n",
    "\n",
    "# NOTE: have to suppress subpath_templ to read files that are all in one directory\n",
    "smap_reader.subpath_templ = []"
   ]
  },
  {
   "cell_type": "code",
   "execution_count": 45,
   "metadata": {
    "scrolled": true
   },
   "outputs": [
    {
     "name": "stdout",
     "output_type": "stream",
     "text": [
      "{'soil_moisture': array([[-9999., -9999., -9999., ..., -9999., -9999., -9999.],\n",
      "       [-9999., -9999., -9999., ..., -9999., -9999., -9999.],\n",
      "       [-9999., -9999., -9999., ..., -9999., -9999., -9999.],\n",
      "       ...,\n",
      "       [-9999., -9999., -9999., ..., -9999., -9999., -9999.],\n",
      "       [-9999., -9999., -9999., ..., -9999., -9999., -9999.],\n",
      "       [-9999., -9999., -9999., ..., -9999., -9999., -9999.]],\n",
      "      dtype=float32)}\n",
      "(406, 964)\n"
     ]
    }
   ],
   "source": [
    "smap_image = smap_reader.read(datetime(2018,6,3,0,0))\n",
    "print(smap_image.data)\n",
    "print(smap_image.data['soil_moisture'].shape)"
   ]
  },
  {
   "cell_type": "code",
   "execution_count": 46,
   "metadata": {},
   "outputs": [
    {
     "name": "stdout",
     "output_type": "stream",
     "text": [
      "Help on Image in module pygeobase.object_base object:\n",
      "\n",
      "class Image(builtins.object)\n",
      " |  The Image class represents the base object of an image.\n",
      " |  \n",
      " |  Parameters\n",
      " |  ----------\n",
      " |  lon : numpy.array\n",
      " |      array of longitudes\n",
      " |  lat : numpy.array\n",
      " |      array of latitudes\n",
      " |  data : dict\n",
      " |      dictionary of numpy arrays that holds the image data for each\n",
      " |      variable of the dataset\n",
      " |  metadata : dict\n",
      " |      dictionary that holds metadata\n",
      " |  timestamp : datetime.datetime\n",
      " |      exact timestamp of the image\n",
      " |  timekey : str, optional\n",
      " |      Key of the time variable, if available, stored in data dictionary.\n",
      " |  \n",
      " |  Methods defined here:\n",
      " |  \n",
      " |  __getitem__(self, key)\n",
      " |  \n",
      " |  __init__(self, lon, lat, data, metadata, timestamp, timekey=None)\n",
      " |      Initialization of the image object.\n",
      " |  \n",
      " |  __iter__(self)\n",
      " |  \n",
      " |  ----------------------------------------------------------------------\n",
      " |  Data descriptors defined here:\n",
      " |  \n",
      " |  __dict__\n",
      " |      dictionary for instance variables (if defined)\n",
      " |  \n",
      " |  __weakref__\n",
      " |      list of weak references to the object (if defined)\n",
      " |  \n",
      " |  dtype\n",
      " |      Fake numpy recarray dtype field based\n",
      " |      on the dictionary keys and the dtype of the\n",
      " |      numpy array.\n",
      "\n"
     ]
    }
   ],
   "source": [
    "help(smap_image)"
   ]
  }
 ],
 "metadata": {
  "kernelspec": {
   "display_name": "sm_win",
   "language": "python",
   "name": "sm_win"
  },
  "language_info": {
   "codemirror_mode": {
    "name": "ipython",
    "version": 3
   },
   "file_extension": ".py",
   "mimetype": "text/x-python",
   "name": "python",
   "nbconvert_exporter": "python",
   "pygments_lexer": "ipython3",
   "version": "3.6.10"
  }
 },
 "nbformat": 4,
 "nbformat_minor": 4
}
