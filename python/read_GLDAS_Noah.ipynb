{
 "cells": [
  {
   "cell_type": "code",
   "execution_count": 114,
   "metadata": {},
   "outputs": [],
   "source": [
    "import os\n",
    "from datetime import datetime\n",
    "from gldas.interface import GLDAS_Noah_v21_025Ds"
   ]
  },
  {
   "cell_type": "code",
   "execution_count": 115,
   "metadata": {},
   "outputs": [
    {
     "data": {
      "text/plain": [
       "'C:\\\\git\\\\soil-moisture-sweden\\\\python'"
      ]
     },
     "execution_count": 115,
     "metadata": {},
     "output_type": "execute_result"
    }
   ],
   "source": [
    "os.getcwd()"
   ]
  },
  {
   "cell_type": "code",
   "execution_count": 128,
   "metadata": {},
   "outputs": [
    {
     "data": {
      "text/plain": [
       "'GLDAS_NOAH025_3H.A20180601.0000.021.nc4'"
      ]
     },
     "execution_count": 128,
     "metadata": {},
     "output_type": "execute_result"
    }
   ],
   "source": [
    "data_path = 'C:\\\\git\\\\soil-moisture-sweden\\\\sm_sample_files\\\\gldas-noah-2.1-0.25deg'\n",
    "\n",
    "# test that we are in the right dir\n",
    "os.listdir(data_path)[0]"
   ]
  },
  {
   "cell_type": "code",
   "execution_count": 140,
   "metadata": {},
   "outputs": [],
   "source": [
    "# reader for multiple images\n",
    "\n",
    "# read several parameters\n",
    "# parameter = ['lat', 'lon', 'SoilMoi0_10cm_inst']\n",
    "# the class is initialized with the exact filename.\n",
    "gldas_reader = GLDAS_Noah_v21_025Ds(data_path)\n",
    "gldas_reader.read_bulk = True\n",
    "\n",
    "# NOTE: have to suppress subpath_templ to read files that are all in one directory\n",
    "gldas_reader.subpath_templ = []"
   ]
  },
  {
   "cell_type": "code",
   "execution_count": 121,
   "metadata": {
    "scrolled": true
   },
   "outputs": [
    {
     "name": "stdout",
     "output_type": "stream",
     "text": [
      "<pygeobase.object_base.Image object at 0x0000025C35018C88>\n",
      "<pygeobase.object_base.Image object at 0x0000025C35019630>\n",
      "<pygeobase.object_base.Image object at 0x0000025C35019A20>\n",
      "<pygeobase.object_base.Image object at 0x0000025C35019E10>\n",
      "<pygeobase.object_base.Image object at 0x0000025C35019EB8>\n",
      "<pygeobase.object_base.Image object at 0x0000025C35019D68>\n",
      "<pygeobase.object_base.Image object at 0x0000025C350197F0>\n",
      "<pygeobase.object_base.Image object at 0x0000025C35019358>\n"
     ]
    }
   ],
   "source": [
    "for whatever in gldas_reader.daily_images(datetime(2018,6,3)):\n",
    "    print(whatever)"
   ]
  },
  {
   "cell_type": "code",
   "execution_count": 152,
   "metadata": {
    "scrolled": true
   },
   "outputs": [
    {
     "name": "stdout",
     "output_type": "stream",
     "text": [
      "2018-06-01T00:00:00\n",
      "<class 'dict'>\n",
      "The following variables are in this image dict_keys(['SoilMoi0_10cm_inst'])\n",
      "[[-179.875 -179.625 -179.375 ...  179.375  179.625  179.875]\n",
      " [-179.875 -179.625 -179.375 ...  179.375  179.625  179.875]\n",
      " [-179.875 -179.625 -179.375 ...  179.375  179.625  179.875]\n",
      " ...\n",
      " [-179.875 -179.625 -179.375 ...  179.375  179.625  179.875]\n",
      " [-179.875 -179.625 -179.375 ...  179.375  179.625  179.875]\n",
      " [-179.875 -179.625 -179.375 ...  179.375  179.625  179.875]]\n",
      "2018-06-01T03:00:00\n",
      "<class 'dict'>\n",
      "The following variables are in this image dict_keys(['SoilMoi0_10cm_inst'])\n",
      "[[-179.875 -179.625 -179.375 ...  179.375  179.625  179.875]\n",
      " [-179.875 -179.625 -179.375 ...  179.375  179.625  179.875]\n",
      " [-179.875 -179.625 -179.375 ...  179.375  179.625  179.875]\n",
      " ...\n",
      " [-179.875 -179.625 -179.375 ...  179.375  179.625  179.875]\n",
      " [-179.875 -179.625 -179.375 ...  179.375  179.625  179.875]\n",
      " [-179.875 -179.625 -179.375 ...  179.375  179.625  179.875]]\n",
      "2018-06-01T06:00:00\n",
      "<class 'dict'>\n",
      "The following variables are in this image dict_keys(['SoilMoi0_10cm_inst'])\n",
      "[[-179.875 -179.625 -179.375 ...  179.375  179.625  179.875]\n",
      " [-179.875 -179.625 -179.375 ...  179.375  179.625  179.875]\n",
      " [-179.875 -179.625 -179.375 ...  179.375  179.625  179.875]\n",
      " ...\n",
      " [-179.875 -179.625 -179.375 ...  179.375  179.625  179.875]\n",
      " [-179.875 -179.625 -179.375 ...  179.375  179.625  179.875]\n",
      " [-179.875 -179.625 -179.375 ...  179.375  179.625  179.875]]\n",
      "2018-06-01T09:00:00\n",
      "<class 'dict'>\n",
      "The following variables are in this image dict_keys(['SoilMoi0_10cm_inst'])\n",
      "[[-179.875 -179.625 -179.375 ...  179.375  179.625  179.875]\n",
      " [-179.875 -179.625 -179.375 ...  179.375  179.625  179.875]\n",
      " [-179.875 -179.625 -179.375 ...  179.375  179.625  179.875]\n",
      " ...\n",
      " [-179.875 -179.625 -179.375 ...  179.375  179.625  179.875]\n",
      " [-179.875 -179.625 -179.375 ...  179.375  179.625  179.875]\n",
      " [-179.875 -179.625 -179.375 ...  179.375  179.625  179.875]]\n",
      "2018-06-01T12:00:00\n",
      "<class 'dict'>\n",
      "The following variables are in this image dict_keys(['SoilMoi0_10cm_inst'])\n",
      "[[-179.875 -179.625 -179.375 ...  179.375  179.625  179.875]\n",
      " [-179.875 -179.625 -179.375 ...  179.375  179.625  179.875]\n",
      " [-179.875 -179.625 -179.375 ...  179.375  179.625  179.875]\n",
      " ...\n",
      " [-179.875 -179.625 -179.375 ...  179.375  179.625  179.875]\n",
      " [-179.875 -179.625 -179.375 ...  179.375  179.625  179.875]\n",
      " [-179.875 -179.625 -179.375 ...  179.375  179.625  179.875]]\n",
      "2018-06-01T15:00:00\n",
      "<class 'dict'>\n",
      "The following variables are in this image dict_keys(['SoilMoi0_10cm_inst'])\n",
      "[[-179.875 -179.625 -179.375 ...  179.375  179.625  179.875]\n",
      " [-179.875 -179.625 -179.375 ...  179.375  179.625  179.875]\n",
      " [-179.875 -179.625 -179.375 ...  179.375  179.625  179.875]\n",
      " ...\n",
      " [-179.875 -179.625 -179.375 ...  179.375  179.625  179.875]\n",
      " [-179.875 -179.625 -179.375 ...  179.375  179.625  179.875]\n",
      " [-179.875 -179.625 -179.375 ...  179.375  179.625  179.875]]\n",
      "2018-06-01T18:00:00\n",
      "<class 'dict'>\n",
      "The following variables are in this image dict_keys(['SoilMoi0_10cm_inst'])\n",
      "[[-179.875 -179.625 -179.375 ...  179.375  179.625  179.875]\n",
      " [-179.875 -179.625 -179.375 ...  179.375  179.625  179.875]\n",
      " [-179.875 -179.625 -179.375 ...  179.375  179.625  179.875]\n",
      " ...\n",
      " [-179.875 -179.625 -179.375 ...  179.375  179.625  179.875]\n",
      " [-179.875 -179.625 -179.375 ...  179.375  179.625  179.875]\n",
      " [-179.875 -179.625 -179.375 ...  179.375  179.625  179.875]]\n",
      "2018-06-01T21:00:00\n",
      "<class 'dict'>\n",
      "The following variables are in this image dict_keys(['SoilMoi0_10cm_inst'])\n",
      "[[-179.875 -179.625 -179.375 ...  179.375  179.625  179.875]\n",
      " [-179.875 -179.625 -179.375 ...  179.375  179.625  179.875]\n",
      " [-179.875 -179.625 -179.375 ...  179.375  179.625  179.875]\n",
      " ...\n",
      " [-179.875 -179.625 -179.375 ...  179.375  179.625  179.875]\n",
      " [-179.875 -179.625 -179.375 ...  179.375  179.625  179.875]\n",
      " [-179.875 -179.625 -179.375 ...  179.375  179.625  179.875]]\n"
     ]
    }
   ],
   "source": [
    "for gldas_data, metadata, timestamp, lons, lats, time_var in gldas_reader.daily_images(datetime(2018,6,1)):\n",
    "\n",
    "    # this tells you the exact timestamp of the read image\n",
    "    print(timestamp.isoformat())\n",
    "    print(type(gldas_data))\n",
    "    \n",
    "    # the data is a dictionary, each dictionary key contains the array of one variable\n",
    "    print(\"The following variables are in this image\", gldas_data.keys())\n",
    "    # print(gldas_data.shape)\n",
    "    # print(h08_data['ssm'].shape)\n",
    "    # print(lons.shape)\n",
    "    # print(lats.shape)\n",
    "    # print(gldas_data['SoilMoi0_10cm_inst'].shape)\n",
    "    print(lons)"
   ]
  },
  {
   "cell_type": "code",
   "execution_count": null,
   "metadata": {},
   "outputs": [],
   "source": []
  },
  {
   "cell_type": "code",
   "execution_count": 151,
   "metadata": {},
   "outputs": [
    {
     "ename": "AttributeError",
     "evalue": "'GLDAS_Noah_v21_025Ds' object has no attribute '_read_lonlat'",
     "output_type": "error",
     "traceback": [
      "\u001b[1;31m---------------------------------------------------------------------------\u001b[0m",
      "\u001b[1;31mAttributeError\u001b[0m                            Traceback (most recent call last)",
      "\u001b[1;32m<ipython-input-151-c6a15e1e5afb>\u001b[0m in \u001b[0;36m<module>\u001b[1;34m\u001b[0m\n\u001b[0;32m      1\u001b[0m \u001b[1;31m#gldas_time_series = gldas_reader.read(19.556539, 64.182029)\u001b[0m\u001b[1;33m\u001b[0m\u001b[1;33m\u001b[0m\u001b[1;33m\u001b[0m\u001b[0m\n\u001b[1;32m----> 2\u001b[1;33m \u001b[0mgldas_time_series\u001b[0m \u001b[1;33m=\u001b[0m \u001b[0mgldas_reader\u001b[0m\u001b[1;33m.\u001b[0m\u001b[0m_read_lonlat\u001b[0m\u001b[1;33m(\u001b[0m\u001b[1;36m19.556539\u001b[0m\u001b[1;33m,\u001b[0m \u001b[1;36m64.182029\u001b[0m\u001b[1;33m)\u001b[0m\u001b[1;33m\u001b[0m\u001b[1;33m\u001b[0m\u001b[0m\n\u001b[0m",
      "\u001b[1;31mAttributeError\u001b[0m: 'GLDAS_Noah_v21_025Ds' object has no attribute '_read_lonlat'"
     ]
    }
   ],
   "source": [
    "#gldas_time_series = gldas_reader.read(19.556539, 64.182029)\n",
    "gldas_time_series = gldas_reader._read_lonlat(19.556539, 64.182029)\n"
   ]
  }
 ],
 "metadata": {
  "kernelspec": {
   "display_name": "ascat_win",
   "language": "python",
   "name": "ascat_win"
  },
  "language_info": {
   "codemirror_mode": {
    "name": "ipython",
    "version": 3
   },
   "file_extension": ".py",
   "mimetype": "text/x-python",
   "name": "python",
   "nbconvert_exporter": "python",
   "pygments_lexer": "ipython3",
   "version": "3.6.10"
  }
 },
 "nbformat": 4,
 "nbformat_minor": 4
}
