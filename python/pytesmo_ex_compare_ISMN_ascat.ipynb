{
 "cells": [
  {
   "cell_type": "code",
   "execution_count": 11,
   "metadata": {},
   "outputs": [
    {
     "data": {
      "text/plain": [
       "\"\\nThis example program loops through all insitu stations that measure soil moisture with a depth between 0 and 0.1m\\nit then finds the nearest ASCAT grid point and reads the ASCAT data. After temporal matching and scaling using linear\\nCDF matching it computes several metrics, like the correlation coefficients(Pearson's, Spearman's and Kendall's), Bias,\\nRMSD as well as the Nash–Sutcliffe model efficiency coefficient.\\n\\n\\nCreated on Aug 8, 2013\\n\\n@author: Christoph Paulik Christoph.Paulik@geo.tuwien.ac.at\\n\""
      ]
     },
     "execution_count": 11,
     "metadata": {},
     "output_type": "execute_result"
    }
   ],
   "source": [
    "# -*- coding: utf-8 -*-\n",
    "# Copyright (c) 2013,Vienna University of Technology, Department of Geodesy and Geoinformation\n",
    "# All rights reserved.\n",
    "\n",
    "# Redistribution and use in source and binary forms, with or without\n",
    "# modification, are permitted provided that the following conditions are met:\n",
    "#   * Redistributions of source code must retain the above copyright\n",
    "#     notice, this list of conditions and the following disclaimer.\n",
    "#    * Redistributions in binary form must reproduce the above copyright\n",
    "#      notice, this list of conditions and the following disclaimer in the\n",
    "#      documentation and/or other materials provided with the distribution.\n",
    "#    * Neither the name of the Vienna University of Technology, Department of Geodesy and Geoinformation nor the\n",
    "#      names of its contributors may be used to endorse or promote products\n",
    "#      derived from this software without specific prior written permission.\n",
    "\n",
    "# THIS SOFTWARE IS PROVIDED BY THE COPYRIGHT HOLDERS AND CONTRIBUTORS \"AS IS\" AND\n",
    "# ANY EXPRESS OR IMPLIED WARRANTIES, INCLUDING, BUT NOT LIMITED TO, THE IMPLIED\n",
    "# WARRANTIES OF MERCHANTABILITY AND FITNESS FOR A PARTICULAR PURPOSE ARE\n",
    "# DISCLAIMED. IN NO EVENT SHALL VIENNA UNIVERSITY OF TECHNOLOGY, \n",
    "# DEPARTMENT OF GEODESY AND GEOINFORMATION BE LIABLE FOR ANY\n",
    "# DIRECT, INDIRECT, INCIDENTAL, SPECIAL, EXEMPLARY, OR CONSEQUENTIAL DAMAGES\n",
    "# (INCLUDING, BUT NOT LIMITED TO, PROCUREMENT OF SUBSTITUTE GOODS OR SERVICES;\n",
    "# LOSS OF USE, DATA, OR PROFITS; OR BUSINESS INTERRUPTION) HOWEVER CAUSED AND\n",
    "# ON ANY THEORY OF LIABILITY, WHETHER IN CONTRACT, STRICT LIABILITY, OR TORT\n",
    "# (INCLUDING NEGLIGENCE OR OTHERWISE) ARISING IN ANY WAY OUT OF THE USE OF THIS\n",
    "# SOFTWARE, EVEN IF ADVISED OF THE POSSIBILITY OF SUCH DAMAGE.\n",
    "\n",
    "'''\n",
    "This example program loops through all insitu stations that measure soil moisture with a depth between 0 and 0.1m\n",
    "it then finds the nearest ASCAT grid point and reads the ASCAT data. After temporal matching and scaling using linear\n",
    "CDF matching it computes several metrics, like the correlation coefficients(Pearson's, Spearman's and Kendall's), Bias,\n",
    "RMSD as well as the Nash–Sutcliffe model efficiency coefficient.\n",
    "\n",
    "\n",
    "Created on Aug 8, 2013\n",
    "\n",
    "@author: Christoph Paulik Christoph.Paulik@geo.tuwien.ac.at\n",
    "'''"
   ]
  },
  {
   "cell_type": "code",
   "execution_count": 12,
   "metadata": {},
   "outputs": [],
   "source": [
    "import ismn.interface as ismn\n",
    "import ascat\n",
    "import pytesmo.temporal_matching as temp_match\n",
    "import pytesmo.scaling as scaling\n",
    "import pytesmo.df_metrics as df_metrics\n",
    "import pytesmo.metrics as metrics\n",
    "\n",
    "import os\n",
    "import matplotlib.pyplot as plt"
   ]
  },
  {
   "cell_type": "code",
   "execution_count": 27,
   "metadata": {},
   "outputs": [],
   "source": [
    "testdata_folder = r'C:\\git\\soil-moisture-sweden\\testdata'\n",
    "\n",
    "#\"C:\\\\git\\\\soil-moisture-sweden\\\\sm_sample_files\\\\pytesmo_testdata\"\n",
    "\n",
    "ascat_data_folder = os.path.join(testdata_folder,\n",
    "                                 'sat/ascat/netcdf/55R22')\n",
    "ascat_grid_folder = os.path.join(testdata_folder,\n",
    "                                 'sat/ascat/netcdf/grid')\n",
    "static_layers_folder = os.path.join(testdata_folder,\n",
    "                                    'sat/h_saf/static_layer')\n",
    "\n",
    "# set path to ISMN data\n",
    "ismn_data_folder = os.path.join(testdata_folder,\n",
    "                                 'ismn/multinetwork/header_values')\n"
   ]
  },
  {
   "cell_type": "code",
   "execution_count": 28,
   "metadata": {
    "scrolled": false
   },
   "outputs": [
    {
     "data": {
      "text/plain": [
       "['TUW_METOP_ASCAT_WARP55R22_0421.nc',\n",
       " 'TUW_METOP_ASCAT_WARP55R22_0528.nc',\n",
       " 'TUW_METOP_ASCAT_WARP55R22_0601.nc',\n",
       " 'TUW_METOP_ASCAT_WARP55R22_0672.nc',\n",
       " 'TUW_METOP_ASCAT_WARP55R22_1395.nc',\n",
       " 'TUW_METOP_ASCAT_WARP55R22_2040.nc']"
      ]
     },
     "execution_count": 28,
     "metadata": {},
     "output_type": "execute_result"
    }
   ],
   "source": [
    "os.listdir(ascat_data_folder)"
   ]
  },
  {
   "cell_type": "code",
   "execution_count": 29,
   "metadata": {},
   "outputs": [
    {
     "name": "stdout",
     "output_type": "stream",
     "text": [
      "C:\\git\\soil-moisture-sweden\\testdata\\ismn/multinetwork/header_values\n"
     ]
    }
   ],
   "source": [
    "print(ismn_data_folder)"
   ]
  },
  {
   "cell_type": "code",
   "execution_count": 31,
   "metadata": {},
   "outputs": [],
   "source": [
    "# init the ASCAT SSM reader with the paths\n",
    "ascat_SSM_reader = ascat.AscatSsmCdr(ascat_data_folder, ascat_grid_folder,\n",
    "                                     grid_filename='TUW_WARP5_grid_info_2_1.nc',\n",
    "                                     static_layer_path=static_layers_folder)\n",
    "ascat_SSM_reader.read_bulk = True"
   ]
  },
  {
   "cell_type": "code",
   "execution_count": 25,
   "metadata": {},
   "outputs": [
    {
     "ename": "FileNotFoundError",
     "evalue": "[Errno 2] No such file or directory: '../testdata\\\\ismn/multinetwork/header_values\\\\MAQU\\\\CST-01\\\\MAQU_MAQU_CST-01_sm_0.050000_0.050000_ECH20-EC-TM_20070101_20131231.stm'",
     "output_type": "error",
     "traceback": [
      "\u001b[1;31m---------------------------------------------------------------------------\u001b[0m",
      "\u001b[1;31mFileNotFoundError\u001b[0m                         Traceback (most recent call last)",
      "\u001b[1;32m<ipython-input-25-8471d51e5a1e>\u001b[0m in \u001b[0;36m<module>\u001b[1;34m\u001b[0m\n\u001b[0;32m     13\u001b[0m     \u001b[1;31m# this loops through all time series of this station that measure soil moisture\u001b[0m\u001b[1;33m\u001b[0m\u001b[1;33m\u001b[0m\u001b[1;33m\u001b[0m\u001b[0m\n\u001b[0;32m     14\u001b[0m     \u001b[1;31m# between 0 and 0.1 meters\u001b[0m\u001b[1;33m\u001b[0m\u001b[1;33m\u001b[0m\u001b[1;33m\u001b[0m\u001b[0m\n\u001b[1;32m---> 15\u001b[1;33m     \u001b[1;32mfor\u001b[0m \u001b[0mISMN_time_series\u001b[0m \u001b[1;32min\u001b[0m \u001b[0mstation\u001b[0m\u001b[1;33m.\u001b[0m\u001b[0mdata_for_variable\u001b[0m\u001b[1;33m(\u001b[0m\u001b[1;34m'soil moisture'\u001b[0m\u001b[1;33m,\u001b[0m \u001b[0mmin_depth\u001b[0m\u001b[1;33m=\u001b[0m\u001b[1;36m0\u001b[0m\u001b[1;33m,\u001b[0m \u001b[0mmax_depth\u001b[0m\u001b[1;33m=\u001b[0m\u001b[1;36m0.1\u001b[0m\u001b[1;33m)\u001b[0m\u001b[1;33m:\u001b[0m\u001b[1;33m\u001b[0m\u001b[1;33m\u001b[0m\u001b[0m\n\u001b[0m\u001b[0;32m     16\u001b[0m \u001b[1;33m\u001b[0m\u001b[0m\n\u001b[0;32m     17\u001b[0m         ascat_time_series = ascat_SSM_reader.read(ISMN_time_series.longitude,\n",
      "\u001b[1;32m~\\.conda\\envs\\ascat_win\\lib\\site-packages\\ismn\\interface.py\u001b[0m in \u001b[0;36mdata_for_variable\u001b[1;34m(self, variable, min_depth, max_depth)\u001b[0m\n\u001b[0;32m    435\u001b[0m                     (d2 <= max_depth)):\n\u001b[0;32m    436\u001b[0m \u001b[1;33m\u001b[0m\u001b[0m\n\u001b[1;32m--> 437\u001b[1;33m                 \u001b[1;32myield\u001b[0m \u001b[0mreaders\u001b[0m\u001b[1;33m.\u001b[0m\u001b[0mread_data\u001b[0m\u001b[1;33m(\u001b[0m\u001b[0mfilename\u001b[0m\u001b[1;33m)\u001b[0m\u001b[1;33m\u001b[0m\u001b[1;33m\u001b[0m\u001b[0m\n\u001b[0m\u001b[0;32m    438\u001b[0m \u001b[1;33m\u001b[0m\u001b[0m\n\u001b[0;32m    439\u001b[0m     \u001b[1;32mdef\u001b[0m \u001b[0mget_min_max_obs_timestamp\u001b[0m\u001b[1;33m(\u001b[0m\u001b[0mself\u001b[0m\u001b[1;33m,\u001b[0m \u001b[0mvariable\u001b[0m\u001b[1;33m=\u001b[0m\u001b[1;34m\"soil moisture\"\u001b[0m\u001b[1;33m,\u001b[0m \u001b[0mmin_depth\u001b[0m\u001b[1;33m=\u001b[0m\u001b[1;32mNone\u001b[0m\u001b[1;33m,\u001b[0m \u001b[0mmax_depth\u001b[0m\u001b[1;33m=\u001b[0m\u001b[1;32mNone\u001b[0m\u001b[1;33m)\u001b[0m\u001b[1;33m:\u001b[0m\u001b[1;33m\u001b[0m\u001b[1;33m\u001b[0m\u001b[0m\n",
      "\u001b[1;32m~\\.conda\\envs\\ascat_win\\lib\\site-packages\\ismn\\readers.py\u001b[0m in \u001b[0;36mread_data\u001b[1;34m(filename)\u001b[0m\n\u001b[0;32m    529\u001b[0m     \"\"\"\n\u001b[0;32m    530\u001b[0m     \u001b[0mdicton\u001b[0m \u001b[1;33m=\u001b[0m \u001b[0mglobals\u001b[0m\u001b[1;33m(\u001b[0m\u001b[1;33m)\u001b[0m\u001b[1;33m\u001b[0m\u001b[1;33m\u001b[0m\u001b[0m\n\u001b[1;32m--> 531\u001b[1;33m     \u001b[0mfunc\u001b[0m \u001b[1;33m=\u001b[0m \u001b[0mdicton\u001b[0m\u001b[1;33m[\u001b[0m\u001b[1;34m'read_format_'\u001b[0m \u001b[1;33m+\u001b[0m \u001b[0mget_format\u001b[0m\u001b[1;33m(\u001b[0m\u001b[0mfilename\u001b[0m\u001b[1;33m)\u001b[0m\u001b[1;33m]\u001b[0m\u001b[1;33m\u001b[0m\u001b[1;33m\u001b[0m\u001b[0m\n\u001b[0m\u001b[0;32m    532\u001b[0m     \u001b[1;32mreturn\u001b[0m \u001b[0mfunc\u001b[0m\u001b[1;33m(\u001b[0m\u001b[0mfilename\u001b[0m\u001b[1;33m)\u001b[0m\u001b[1;33m\u001b[0m\u001b[1;33m\u001b[0m\u001b[0m\n\u001b[0;32m    533\u001b[0m \u001b[1;33m\u001b[0m\u001b[0m\n",
      "\u001b[1;32m~\\.conda\\envs\\ascat_win\\lib\\site-packages\\ismn\\readers.py\u001b[0m in \u001b[0;36mget_format\u001b[1;34m(filename)\u001b[0m\n\u001b[0;32m    505\u001b[0m         \u001b[1;32mif\u001b[0m \u001b[0mfilename\u001b[0m \u001b[1;32mor\u001b[0m \u001b[0mheader\u001b[0m \u001b[0mparts\u001b[0m \u001b[0mdo\u001b[0m \u001b[1;32mnot\u001b[0m \u001b[0mfit\u001b[0m \u001b[0mone\u001b[0m \u001b[0mof\u001b[0m \u001b[0mthe\u001b[0m \u001b[0mformats\u001b[0m\u001b[1;33m\u001b[0m\u001b[1;33m\u001b[0m\u001b[0m\n\u001b[0;32m    506\u001b[0m     \"\"\"\n\u001b[1;32m--> 507\u001b[1;33m     \u001b[0mheader_elements\u001b[0m\u001b[1;33m,\u001b[0m \u001b[0mfilename_elements\u001b[0m \u001b[1;33m=\u001b[0m \u001b[0mget_info_from_file\u001b[0m\u001b[1;33m(\u001b[0m\u001b[0mfilename\u001b[0m\u001b[1;33m)\u001b[0m\u001b[1;33m\u001b[0m\u001b[1;33m\u001b[0m\u001b[0m\n\u001b[0m\u001b[0;32m    508\u001b[0m     \u001b[1;32mif\u001b[0m \u001b[0mlen\u001b[0m\u001b[1;33m(\u001b[0m\u001b[0mfilename_elements\u001b[0m\u001b[1;33m)\u001b[0m \u001b[1;33m==\u001b[0m \u001b[1;36m5\u001b[0m \u001b[1;32mand\u001b[0m \u001b[0mlen\u001b[0m\u001b[1;33m(\u001b[0m\u001b[0mheader_elements\u001b[0m\u001b[1;33m)\u001b[0m \u001b[1;33m==\u001b[0m \u001b[1;36m16\u001b[0m\u001b[1;33m:\u001b[0m\u001b[1;33m\u001b[0m\u001b[1;33m\u001b[0m\u001b[0m\n\u001b[0;32m    509\u001b[0m         \u001b[1;32mreturn\u001b[0m \u001b[1;34m'ceop'\u001b[0m\u001b[1;33m\u001b[0m\u001b[1;33m\u001b[0m\u001b[0m\n",
      "\u001b[1;32m~\\.conda\\envs\\ascat_win\\lib\\site-packages\\ismn\\readers.py\u001b[0m in \u001b[0;36mget_info_from_file\u001b[1;34m(filename)\u001b[0m\n\u001b[0;32m    153\u001b[0m         \u001b[0mfilename\u001b[0m \u001b[0mwithout\u001b[0m \u001b[0mpath\u001b[0m \u001b[0msplit\u001b[0m \u001b[0mby\u001b[0m \u001b[0m_\u001b[0m\u001b[1;33m\u001b[0m\u001b[1;33m\u001b[0m\u001b[0m\n\u001b[0;32m    154\u001b[0m     \"\"\"\n\u001b[1;32m--> 155\u001b[1;33m     \u001b[1;32mwith\u001b[0m \u001b[0mio\u001b[0m\u001b[1;33m.\u001b[0m\u001b[0mopen\u001b[0m\u001b[1;33m(\u001b[0m\u001b[0mfilename\u001b[0m\u001b[1;33m,\u001b[0m \u001b[0mmode\u001b[0m\u001b[1;33m=\u001b[0m\u001b[1;34m'r'\u001b[0m\u001b[1;33m,\u001b[0m \u001b[0mnewline\u001b[0m\u001b[1;33m=\u001b[0m\u001b[1;32mNone\u001b[0m\u001b[1;33m)\u001b[0m \u001b[1;32mas\u001b[0m \u001b[0mf\u001b[0m\u001b[1;33m:\u001b[0m\u001b[1;33m\u001b[0m\u001b[1;33m\u001b[0m\u001b[0m\n\u001b[0m\u001b[0;32m    156\u001b[0m         \u001b[0mheader\u001b[0m \u001b[1;33m=\u001b[0m \u001b[0mf\u001b[0m\u001b[1;33m.\u001b[0m\u001b[0mreadline\u001b[0m\u001b[1;33m(\u001b[0m\u001b[1;33m)\u001b[0m\u001b[1;33m\u001b[0m\u001b[1;33m\u001b[0m\u001b[0m\n\u001b[0;32m    157\u001b[0m     \u001b[0mheader_elements\u001b[0m \u001b[1;33m=\u001b[0m \u001b[0mheader\u001b[0m\u001b[1;33m.\u001b[0m\u001b[0msplit\u001b[0m\u001b[1;33m(\u001b[0m\u001b[1;33m)\u001b[0m\u001b[1;33m\u001b[0m\u001b[1;33m\u001b[0m\u001b[0m\n",
      "\u001b[1;31mFileNotFoundError\u001b[0m: [Errno 2] No such file or directory: '../testdata\\\\ismn/multinetwork/header_values\\\\MAQU\\\\CST-01\\\\MAQU_MAQU_CST-01_sm_0.050000_0.050000_ECH20-EC-TM_20070101_20131231.stm'"
     ]
    }
   ],
   "source": [
    "# Initialize reader\n",
    "ISMN_reader = ismn.ISMN_Interface(ismn_data_folder)\n",
    "\n",
    "\n",
    "i = 0\n",
    "\n",
    "label_ascat = 'sm'\n",
    "label_insitu = 'insitu_sm'\n",
    "\n",
    "# this loops through all stations that measure soil moisture\n",
    "for station in ISMN_reader.stations_that_measure('soil moisture'):\n",
    "    \n",
    "    # this loops through all time series of this station that measure soil moisture\n",
    "    # between 0 and 0.1 meters\n",
    "    for ISMN_time_series in station.data_for_variable('soil moisture', min_depth=0, max_depth=0.1):\n",
    "\n",
    "        ascat_time_series = ascat_SSM_reader.read(ISMN_time_series.longitude,\n",
    "                                                  ISMN_time_series.latitude,\n",
    "                                                  mask_ssf=True,\n",
    "                                                  mask_frozen_prob=80,\n",
    "                                                  mask_snow_prob=80)\n",
    "\n",
    "        # focus only on the relevant variable\n",
    "        ascat_time_series.data = ascat_time_series.data[label_ascat]\n",
    "\n",
    "        # drop nan values before doing any matching\n",
    "        ascat_time_series.data = ascat_time_series.data.dropna()\n",
    "\n",
    "        ISMN_time_series.data = ISMN_time_series.data.dropna()\n",
    "        \n",
    "        # rename the soil moisture column in ISMN_time_series.data to insitu_sm\n",
    "        # to clearly differentiate the time series when they are plotted together\n",
    "        ISMN_time_series.data.rename(columns={'soil moisture':label_insitu}, inplace=True)\n",
    "        \n",
    "        # get ISMN data that was observerd within +- 1 hour(1/24. day) of the ASCAT observation\n",
    "        # do not include those indexes where no observation was found\n",
    "        print(type(ascat_time_series.data))\n",
    "        print(type(ISMN_time_series.data))\n",
    "        print('pause')\n",
    "        print('ascat_time_series.data.head()')\n",
    "        print(ascat_time_series.data.head())\n",
    "        print('ISMN_time_series.data.head()')\n",
    "        print(ISMN_time_series.data.head())\n",
    "        matched_data = temp_match.matching(ascat_time_series.data, ISMN_time_series.data,\n",
    "                                                window=1 / 24.)\n",
    "        # matched ISMN data is now a dataframe with the same datetime index\n",
    "        # as ascat_time_series.data and the nearest insitu observation      \n",
    "        \n",
    "        # continue only with relevant columns\n",
    "        matched_data = matched_data[[label_ascat, label_insitu]]\n",
    "        \n",
    "        # the plot shows that ISMN and ASCAT are observed in different units\n",
    "        matched_data.plot(figsize=(15, 5), secondary_y=[label_ascat],\n",
    "                          title='temporally merged data')\n",
    "        plt.show()\n",
    "        \n",
    "        # this takes the matched_data DataFrame and scales all columns to the \n",
    "        # column with the given reference_index, in this case in situ \n",
    "        scaled_data = scaling.scale(matched_data, method='lin_cdf_match',\n",
    "                                         reference_index=1)\n",
    "        \n",
    "        # now the scaled ascat data and insitu_sm are in the same space    \n",
    "        scaled_data.plot(figsize=(15, 5), title='scaled data')\n",
    "        plt.show()\n",
    "        \n",
    "        plt.scatter(scaled_data[label_ascat].values, scaled_data[label_insitu].values)\n",
    "        plt.xlabel(label_ascat)\n",
    "        plt.ylabel(label_insitu)\n",
    "        plt.show()\n",
    "        \n",
    "        # calculate correlation coefficients, RMSD, bias, Nash Sutcliffe\n",
    "        x, y = scaled_data[label_ascat].values, scaled_data[label_insitu].values\n",
    "        \n",
    "        print(\"ISMN time series:\", ISMN_time_series)\n",
    "        print(\"compared to\")\n",
    "        print(ascat_time_series)\n",
    "        print(\"Results:\")\n",
    "        \n",
    "        # df_metrics takes a DataFrame as input and automatically\n",
    "        # calculates the metric on all combinations of columns\n",
    "        # returns a named tuple for easy printing\n",
    "        print(df_metrics.pearsonr(scaled_data))\n",
    "        print(\"Spearman's (rho,p_value)\", metrics.spearmanr(x, y))\n",
    "        print(\"Kendalls's (tau,p_value)\", metrics.kendalltau(x, y))\n",
    "        print(df_metrics.kendalltau(scaled_data))\n",
    "        print(df_metrics.rmsd(scaled_data))\n",
    "        print(\"Bias\", metrics.bias(x, y))\n",
    "        print(\"Nash Sutcliffe\", metrics.nash_sutcliffe(x, y))\n",
    "        \n",
    "        \n",
    "    i += 1\n",
    "\n",
    "    # only show the first 2 stations, otherwise this program would run a long time\n",
    "    # and produce a lot of plots\n",
    "    if i >= 2:\n",
    "        break\n"
   ]
  }
 ],
 "metadata": {
  "kernelspec": {
   "display_name": "ascat_win",
   "language": "python",
   "name": "ascat_win"
  },
  "language_info": {
   "codemirror_mode": {
    "name": "ipython",
    "version": 3
   },
   "file_extension": ".py",
   "mimetype": "text/x-python",
   "name": "python",
   "nbconvert_exporter": "python",
   "pygments_lexer": "ipython3",
   "version": "3.6.10"
  }
 },
 "nbformat": 4,
 "nbformat_minor": 4
}
